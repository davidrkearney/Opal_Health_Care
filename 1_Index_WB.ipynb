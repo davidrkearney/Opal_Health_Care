{
 "cells": [
  {
   "cell_type": "markdown",
   "metadata": {},
   "source": [
    "<img src=\"img/aristotle.jpg\"\n",
    " alt=\"Well Begun\" style=\"width: 300px; float: left; padding-right: 3em;\">\n",
    " \n",
    " \n",
    " # Well Begun is Half Done\n",
    " # Contents\n",
    "\n",
    "- [Readme](README.md)\n",
    "- [Preface](notebooks/preface.ipynb)\n",
    "- [Step 1](notebooks/step1.ipynb)\n",
    "- [Step 2](notebooks/step2.ipynb)\n",
    "- [Step 3](notebooks/step3.ipynb)\n",
    "- [Step 4](notebooks/step4.ipynb)\n",
    "- [Step 5](notebooks/step5.ipynb)\n",
    "\n",
    "- [Supervised Methods](notebooks/supervised/)\n",
    "- [Unsupervised Methods](notebooks/unsupervised/)\n"
   ]
  },
  {
   "cell_type": "markdown",
   "metadata": {},
   "source": [
    "# Article outline\n",
    " [**`Supervised Methods`**](notebooks/supervised/): Models that can predict labels based on labeled training data\n",
    "\n",
    "<blockquote>\n",
    "\n",
    "1. [`Regression`](notebooks/supervised/regression): Models that predict continuous labels\n",
    "    1. [Linear Regression](notebooks/supervised/regression/linear.ipynb): Models that predict continuous labels\n",
    "    2. [Random Forest Regression](notebooks/supervised/regression/rfr.ipynb): Models that predict continuous labels\n",
    "    3. [Support Vector Regression (SVR)](notebooks/supervised/regression/svr.ipynb): Models that predict continuous labels\n",
    "\n",
    "</blockquote>\n",
    "\n",
    "\n",
    "1. `Regression Metrics`\n",
    "    1. Root-mean-square error (RMSE) - RMSD is always non-negative, and a value of 0 would indicate a perfect fit to the data. The lower the better.\n",
    "    2. \n",
    "\n",
    "    \n",
    " \n",
    " \n",
    "2. [`Classification`](notebooks/supervised/classification): Models that predict labels as two or more discrete categories\n",
    " <blockquote>\n",
    "\n",
    "    1. [Logistic Regression](notebooks/supervised/classification/logistic.ipynb): Models that predict continuous labels\n",
    "    2. [Random Forest Classifer](notebooks/supervised/classification/randomforestclassifer.ipynb): Models that predict continuous labels\n",
    "    3. [Support Vector Classifer (SVC)](notebooks/supervised/classification/svc.ipynb): Models that predict continuous labels\n",
    "    \n",
    "</blockquote>\n",
    "\n",
    "1. [`Classification Metrics`]\n",
    "    1. ROC - True positive rate and false positive rate for binary classifier\n",
    "        - Area under curve (AUC) - more AUC the better\n",
    "    2. Confusion matrix\n",
    "    3. Matthews correlation coefficient - generally regarded as a balanced measure which can be used even if the classes are of very different sizes\n",
    "\n",
    "2. Decision Tree, Random Forest Classifier Metrics\n",
    "    2. Gini Index- measure of purity, decides which feature is best to split on\n",
    "    \n",
    "    \n",
    "3. [`Time Series`](notebooks/supervised/time-series): Models that predict labels as two or more discrete categories\n",
    "\n",
    "\n",
    "\n",
    "[**`Unsupervised Methods`**](notebooks/unsupervised/unsupervised_learning.ipynb): Models that identify structure in unlabeled data\n",
    "\n",
    "1. [`Clustering`](notebooks/unsupervised/clustering): Models that detect and identify distinct groups in the data\n",
    "    1. [K-Means Clustering](notebooks/unsupervised/clustering/k_means.ipynb): Models that predict continuous labels\n",
    "    2. [Hierarchical Clustering](notebooks/unsupervised/clustering/hierarchical_clustering.ipynb):\n",
    "\n",
    "2. [*Dimensionality reduction*](notebooks/unsupervised/dimensionality): Models that detect and identify lower-dimensional structure in higher-dimensional data\n",
    "    1. [PCA](notebooks/unsupervised/dimensionality/pca.ipynb): Principal Component Analysis (PCA) is by far the most popular dimensionality reduction algorithm. First it identifies the hyperplane that lies closest to the data, and then it projects the data onto it.\n",
    "\n",
    "[NLP](notebooks/nlp/)\n",
    "\n",
    "    1. [Linear Regression](notebooks/supervised/regression/linear.ipynb): Models that predict continuous labels\n",
    "\n",
    "\n",
    "\n",
    "[**`Big Data Methods`**](notebooks/bigdata/): Models that identify structure in unlabeled data\n",
    "\n",
    "<blockquote>\n",
    "\n",
    "    \n",
    "1. [`Pyspark Code`](notebooks/bigdata/1_Pyspark.ipynb): Using spark in python. Spark is a platform for cluster computing. Spark lets you spread data and computations over clusters with multiple nodes (think of each node as a separate computer). Splitting up your data makes it easier to work with very large datasets because each node only works with a small amount of data. As each node works on its own subset of the total data, it also carries out a part of the total calculations required, so that both data processing and computation are performed in parallel over the nodes in the cluster. It is a fact that parallel computation can make certain types of programming tasks much faster.\n",
    "</blockquote>\n",
    "\n",
    "1. [K-Means Clustering](notebooks/unsupervised/clustering/k_means.ipynb): Models that predict continuous labels\n",
    "\n"
   ]
  },
  {
   "cell_type": "markdown",
   "metadata": {},
   "source": [
    " [**`Cost/Loss Functions`**](notebooks/supervised/):\n"
   ]
  },
  {
   "cell_type": "markdown",
   "metadata": {},
   "source": [
    "\n"
   ]
  }
 ],
 "metadata": {
  "kernelspec": {
   "display_name": "Python 3",
   "language": "python",
   "name": "python3"
  },
  "language_info": {
   "codemirror_mode": {
    "name": "ipython",
    "version": 3
   },
   "file_extension": ".py",
   "mimetype": "text/x-python",
   "name": "python",
   "nbconvert_exporter": "python",
   "pygments_lexer": "ipython3",
   "version": "3.7.3"
  },
  "toc": {
   "base_numbering": 1,
   "nav_menu": {},
   "number_sections": true,
   "sideBar": true,
   "skip_h1_title": false,
   "title_cell": "Table of Contents",
   "title_sidebar": "Contents",
   "toc_cell": false,
   "toc_position": {
    "height": "calc(100% - 180px)",
    "left": "10px",
    "top": "150px",
    "width": "223.5px"
   },
   "toc_section_display": true,
   "toc_window_display": true
  },
  "varInspector": {
   "cols": {
    "lenName": 16,
    "lenType": 16,
    "lenVar": 40
   },
   "kernels_config": {
    "python": {
     "delete_cmd_postfix": "",
     "delete_cmd_prefix": "del ",
     "library": "var_list.py",
     "varRefreshCmd": "print(var_dic_list())"
    },
    "r": {
     "delete_cmd_postfix": ") ",
     "delete_cmd_prefix": "rm(",
     "library": "var_list.r",
     "varRefreshCmd": "cat(var_dic_list()) "
    }
   },
   "types_to_exclude": [
    "module",
    "function",
    "builtin_function_or_method",
    "instance",
    "_Feature"
   ],
   "window_display": false
  }
 },
 "nbformat": 4,
 "nbformat_minor": 2
}
